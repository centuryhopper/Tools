{
 "cells": [
  {
   "cell_type": "code",
   "execution_count": 2,
   "id": "03d62338",
   "metadata": {},
   "outputs": [],
   "source": [
    "import yfinance as yf\n",
    "import matplotlib.pyplot as plt\n",
    "import pandas as pd\n",
    "\n",
    "def get_current_price(ticker: str):\n",
    "    # Load stock\n",
    "    stock = yf.Ticker(ticker)\n",
    "    data = stock.history()\n",
    "    # Get current price from the latest market data\n",
    "    current_price = stock.history(period=\"1d\")[\"Close\"].iloc[-1]\n",
    "    print(f\"Current price of {ticker}: ${current_price:.2f}\")"
   ]
  },
  {
   "cell_type": "code",
   "execution_count": 3,
   "id": "cb8a2b45",
   "metadata": {},
   "outputs": [
    {
     "name": "stdout",
     "output_type": "stream",
     "text": [
      "Current price of AAPL: $205.35\n"
     ]
    }
   ],
   "source": [
    "get_current_price('AAPL')"
   ]
  },
  {
   "cell_type": "code",
   "execution_count": 10,
   "id": "fc9fafed",
   "metadata": {},
   "outputs": [
    {
     "name": "stderr",
     "output_type": "stream",
     "text": [
      "[*********************100%***********************]  1 of 1 completed"
     ]
    },
    {
     "name": "stdout",
     "output_type": "stream",
     "text": [
      "Date\n",
      "2024-05-03           NaN\n",
      "2024-05-06           NaN\n",
      "2024-05-07           NaN\n",
      "2024-05-08           NaN\n",
      "2024-05-09           NaN\n",
      "                 ...    \n",
      "2025-04-28    227.195552\n",
      "2025-04-29    227.117564\n",
      "2025-04-30    227.031225\n",
      "2025-05-01    226.929751\n",
      "2025-05-02    226.786334\n",
      "Name: 200_SMA, Length: 250, dtype: float64\n"
     ]
    },
    {
     "name": "stderr",
     "output_type": "stream",
     "text": [
      "\n"
     ]
    }
   ],
   "source": [
    "symbol = \"AAPL\"\n",
    "\n",
    "# Download 1 year of daily data (more than 200 days to calculate SMA)\n",
    "data: pd.DataFrame = yf.download(symbol, period=\"1y\")\n",
    "\n",
    "# Calculate 200-day simple moving average\n",
    "data[\"200_SMA\"] = data[\"Close\"].rolling(window=200).mean()\n",
    "\n",
    "# print(data[\"200_SMA\"].tail(1))\n",
    "print(data[\"200_SMA\"])"
   ]
  }
 ],
 "metadata": {
  "kernelspec": {
   "display_name": "ai",
   "language": "python",
   "name": "python3"
  },
  "language_info": {
   "codemirror_mode": {
    "name": "ipython",
    "version": 3
   },
   "file_extension": ".py",
   "mimetype": "text/x-python",
   "name": "python",
   "nbconvert_exporter": "python",
   "pygments_lexer": "ipython3",
   "version": "3.12.9"
  }
 },
 "nbformat": 4,
 "nbformat_minor": 5
}
